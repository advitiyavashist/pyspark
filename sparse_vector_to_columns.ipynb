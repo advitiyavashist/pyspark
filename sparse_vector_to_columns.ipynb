{
 "cells": [
  {
   "cell_type": "markdown",
   "metadata": {},
   "source": [
    "# Converting a Sparse Vector to Columns "
   ]
  },
  {
   "cell_type": "markdown",
   "metadata": {},
   "source": [
    "## Often you get files in LIBSVM format but you may need to do EDA on the data, for that feature column, which has sparse vectors, would need to be put into different columns"
   ]
  },
  {
   "cell_type": "code",
   "execution_count": 2,
   "metadata": {
    "collapsed": true
   },
   "outputs": [],
   "source": [
    "#Importing Libraries\n",
    "import pandas as pd\n",
    "from pyspark.sql import SparkSession\n",
    "from pyspark.sql import SQLContext\n",
    "from pyspark.sql.types import DoubleType, DateType, StringType, BooleanType, IntegerType\n",
    "import pyspark.sql.functions as F\n",
    "from pyspark.ml.classification import LogisticRegression\n",
    "from pyspark.ml.linalg import Vectors, _convert_to_vector, VectorUDT, DenseVector"
   ]
  },
  {
   "cell_type": "code",
   "execution_count": 6,
   "metadata": {
    "collapsed": true
   },
   "outputs": [],
   "source": [
    "spark = SparkSession.builder.appName('fraud').getOrCreate()"
   ]
  },
  {
   "cell_type": "code",
   "execution_count": 4,
   "metadata": {
    "collapsed": true
   },
   "outputs": [],
   "source": [
    "#reading data \n",
    "path = #put your file path here\n",
    "df = spark.read.format(\"libsvm\").load(path)"
   ]
  },
  {
   "cell_type": "code",
   "execution_count": 6,
   "metadata": {
    "collapsed": true
   },
   "outputs": [],
   "source": [
    "#defining a udf that converts spare vector to dense vector\n",
    "def sparse_to_dense(vector):\n",
    "    return DenseVector(vector)\n",
    "\n",
    "to_dense = udf(sparse_to_dense, VectorUDT())"
   ]
  },
  {
   "cell_type": "code",
   "execution_count": null,
   "metadata": {
    "collapsed": true
   },
   "outputs": [],
   "source": [
    "#making a df with a dense feature vector\n",
    "df_dense = df.withColumn('features_dense', to_dense(F.col('features')))"
   ]
  },
  {
   "cell_type": "code",
   "execution_count": 8,
   "metadata": {
    "collapsed": true
   },
   "outputs": [],
   "source": [
    "#defining a udf that picks returns the element that is specified\n",
    "def vec_to_elements(vector, n):\n",
    "    try:\n",
    "        return float(vector[n])\n",
    "    except ValueError:\n",
    "        return None\n",
    "to_elements = udf(vec_to_elements, DoubleType())"
   ]
  },
  {
   "cell_type": "code",
   "execution_count": 9,
   "metadata": {},
   "outputs": [
    {
     "name": "stdout",
     "output_type": "stream",
     "text": [
      "+----------------------------+\n",
      "|vec_to_elements(features, 0)|\n",
      "+----------------------------+\n",
      "|                      168.75|\n",
      "|                        52.0|\n",
      "|          32.400001525878906|\n",
      "|           136.9499969482422|\n",
      "|          157.60000610351562|\n",
      "|          150.94000244140625|\n",
      "|           77.37999725341797|\n",
      "|           58.38999938964844|\n",
      "|           82.95999908447266|\n",
      "|          45.869998931884766|\n",
      "|            38.2400016784668|\n",
      "|          38.220001220703125|\n",
      "|           40.97999954223633|\n",
      "|          120.31999969482422|\n",
      "|          23.020000457763672|\n",
      "|            345.489990234375|\n",
      "|           195.9600067138672|\n",
      "|          21.190000534057617|\n",
      "|          253.75999450683594|\n",
      "|           199.1199951171875|\n",
      "+----------------------------+\n",
      "only showing top 20 rows\n",
      "\n"
     ]
    }
   ],
   "source": [
    "#checking if the function is working\n",
    "df_dense.select(to_elements('features_dense',F.lit(0))).show()"
   ]
  },
  {
   "cell_type": "code",
   "execution_count": 4,
   "metadata": {},
   "outputs": [
    {
     "data": {
      "text/plain": [
       "['total_after_tax',\n",
       " 'ship_add_lat',\n",
       " 'ship_add_lon',\n",
       " 'ship_add_dist2billadd',\n",
       " 'ship_add_dist2ipadd',\n",
       " 'ship_add_tzoffset',\n",
       " 'ship_add_age',\n",
       " 'ship_add_cust_cnt',\n",
       " 'ship_add_app_cnt',\n",
       " 'ship_add_man_app_cnt',\n",
       " 'ship_add_man_can_cnt',\n",
       " 'ship_add_man_rej_cnt',\n",
       " 'ship_add_wpp_is_valid',\n",
       " 'ship_add_wpp_is_active',\n",
       " 'ship_add_wpp_is_commercial',\n",
       " 'ship_add_wpp_is_forwarder',\n",
       " 'ship_ph_age',\n",
       " 'ship_ph_cust_cnt',\n",
       " 'ship_ph_app_cnt',\n",
       " 'ship_ph_man_app_cnt',\n",
       " 'ship_ph_man_can_cnt',\n",
       " 'ship_ph_man_rej_cnt',\n",
       " 'ship_ph_wpp_is_valid',\n",
       " 'ship_ph_wpp_is_commercial',\n",
       " 'proxy_pickup',\n",
       " 'failed_card_auths',\n",
       " 'pmt_auth_decline',\n",
       " 'pmt_cc_age',\n",
       " 'pmt_cc_cust_cnt',\n",
       " 'pmt_cc_app_cnt',\n",
       " 'pmt_cc_man_app_cnt',\n",
       " 'pmt_cc_man_can_cnt',\n",
       " 'pmt_cc_man_rej_cnt',\n",
       " 'bill_add_lat',\n",
       " 'bill_add_lon',\n",
       " 'bill_add_dist2ipadd',\n",
       " 'bill_add_tzoffset',\n",
       " 'bill_add_age',\n",
       " 'bill_add_cust_cnt',\n",
       " 'bill_add_app_cnt',\n",
       " 'bill_add_man_app_cnt',\n",
       " 'bill_add_man_can_cnt',\n",
       " 'bill_add_man_rej_cnt',\n",
       " 'bill_add_wpp_is_valid',\n",
       " 'bill_add_wpp_is_active',\n",
       " 'bill_add_wpp_is_commercial',\n",
       " 'bill_add_wpp_is_forwarder',\n",
       " 'bill_ph_age',\n",
       " 'bill_ph_cust_cnt',\n",
       " 'bill_ph_app_cnt',\n",
       " 'bill_ph_man_app_cnt',\n",
       " 'bill_ph_man_can_cnt',\n",
       " 'bill_ph_man_rej_cnt',\n",
       " 'bill_ph_wpp_is_valid',\n",
       " 'bill_ph_wpp_is_commercial',\n",
       " 'http_lat',\n",
       " 'http_lon',\n",
       " 'http_ip_age',\n",
       " 'http_ip_cust_cnt',\n",
       " 'http_ip_app_cnt',\n",
       " 'http_ip_man_app_cnt',\n",
       " 'http_ip_man_can_cnt',\n",
       " 'http_ip_man_rej_cnt',\n",
       " 'http_ip_is_valid',\n",
       " 'http_ip_is_proxy',\n",
       " 'http_ip_dist_address',\n",
       " 'http_ip_dist_phone',\n",
       " 'em_num_b4_alpha',\n",
       " 'em_num_aft_alpha',\n",
       " 'ct_num_in_em',\n",
       " 'em_user_fullname_sim',\n",
       " 'em_user_fname_sim',\n",
       " 'em_user_lname_sim',\n",
       " 'ct_cus_by_fsa',\n",
       " 'ct_cus_by_ip',\n",
       " 'ct_cus_by_sa',\n",
       " 'ct_cus_by_ba',\n",
       " 'ct_cus_by_bp',\n",
       " 'ct_cus_by_tdr',\n",
       " 'time_on_site']"
      ]
     },
     "execution_count": 4,
     "metadata": {},
     "output_type": "execute_result"
    }
   ],
   "source": [
    "#put your column names here\n",
    "col_names = [#colnames]"
   ]
  },
  {
   "cell_type": "code",
   "execution_count": 11,
   "metadata": {
    "collapsed": true
   },
   "outputs": [],
   "source": [
    "#creating a new df with the the feature_dense vector elements put into columns\n",
    "df_new = df_dense\n",
    "for i in list(enumerate(col_names)):\n",
    "    df_new = df_new.withColumn(i[1],to_elements(F.col('features_dense'),F.lit(i[0])))\n",
    "    "
   ]
  },
  {
   "cell_type": "code",
   "execution_count": 12,
   "metadata": {},
   "outputs": [
    {
     "name": "stdout",
     "output_type": "stream",
     "text": [
      "root\n",
      " |-- label: double (nullable = true)\n",
      " |-- features: vector (nullable = true)\n",
      " |-- total_after_tax: double (nullable = true)\n",
      " |-- ship_add_lat: double (nullable = true)\n",
      " |-- ship_add_lon: double (nullable = true)\n",
      " |-- ship_add_dist2billadd: double (nullable = true)\n",
      " |-- ship_add_dist2ipadd: double (nullable = true)\n",
      " |-- ship_add_tzoffset: double (nullable = true)\n",
      " |-- ship_add_age: double (nullable = true)\n",
      " |-- ship_add_cust_cnt: double (nullable = true)\n",
      " |-- ship_add_app_cnt: double (nullable = true)\n",
      " |-- ship_add_man_app_cnt: double (nullable = true)\n",
      " |-- ship_add_man_can_cnt: double (nullable = true)\n",
      " |-- ship_add_man_rej_cnt: double (nullable = true)\n",
      " |-- ship_add_wpp_is_valid: double (nullable = true)\n",
      " |-- ship_add_wpp_is_active: double (nullable = true)\n",
      " |-- ship_add_wpp_is_commercial: double (nullable = true)\n",
      " |-- ship_add_wpp_is_forwarder: double (nullable = true)\n",
      " |-- ship_ph_age: double (nullable = true)\n",
      " |-- ship_ph_cust_cnt: double (nullable = true)\n",
      " |-- ship_ph_app_cnt: double (nullable = true)\n",
      " |-- ship_ph_man_app_cnt: double (nullable = true)\n",
      " |-- ship_ph_man_can_cnt: double (nullable = true)\n",
      " |-- ship_ph_man_rej_cnt: double (nullable = true)\n",
      " |-- ship_ph_wpp_is_valid: double (nullable = true)\n",
      " |-- ship_ph_wpp_is_commercial: double (nullable = true)\n",
      " |-- proxy_pickup: double (nullable = true)\n",
      " |-- failed_card_auths: double (nullable = true)\n",
      " |-- pmt_auth_decline: double (nullable = true)\n",
      " |-- pmt_cc_age: double (nullable = true)\n",
      " |-- pmt_cc_cust_cnt: double (nullable = true)\n",
      " |-- pmt_cc_app_cnt: double (nullable = true)\n",
      " |-- pmt_cc_man_app_cnt: double (nullable = true)\n",
      " |-- pmt_cc_man_can_cnt: double (nullable = true)\n",
      " |-- pmt_cc_man_rej_cnt: double (nullable = true)\n",
      " |-- bill_add_lat: double (nullable = true)\n",
      " |-- bill_add_lon: double (nullable = true)\n",
      " |-- bill_add_dist2ipadd: double (nullable = true)\n",
      " |-- bill_add_tzoffset: double (nullable = true)\n",
      " |-- bill_add_age: double (nullable = true)\n",
      " |-- bill_add_cust_cnt: double (nullable = true)\n",
      " |-- bill_add_app_cnt: double (nullable = true)\n",
      " |-- bill_add_man_app_cnt: double (nullable = true)\n",
      " |-- bill_add_man_can_cnt: double (nullable = true)\n",
      " |-- bill_add_man_rej_cnt: double (nullable = true)\n",
      " |-- bill_add_wpp_is_valid: double (nullable = true)\n",
      " |-- bill_add_wpp_is_active: double (nullable = true)\n",
      " |-- bill_add_wpp_is_commercial: double (nullable = true)\n",
      " |-- bill_add_wpp_is_forwarder: double (nullable = true)\n",
      " |-- bill_ph_age: double (nullable = true)\n",
      " |-- bill_ph_cust_cnt: double (nullable = true)\n",
      " |-- bill_ph_app_cnt: double (nullable = true)\n",
      " |-- bill_ph_man_app_cnt: double (nullable = true)\n",
      " |-- bill_ph_man_can_cnt: double (nullable = true)\n",
      " |-- bill_ph_man_rej_cnt: double (nullable = true)\n",
      " |-- bill_ph_wpp_is_valid: double (nullable = true)\n",
      " |-- bill_ph_wpp_is_commercial: double (nullable = true)\n",
      " |-- http_lat: double (nullable = true)\n",
      " |-- http_lon: double (nullable = true)\n",
      " |-- http_ip_age: double (nullable = true)\n",
      " |-- http_ip_cust_cnt: double (nullable = true)\n",
      " |-- http_ip_app_cnt: double (nullable = true)\n",
      " |-- http_ip_man_app_cnt: double (nullable = true)\n",
      " |-- http_ip_man_can_cnt: double (nullable = true)\n",
      " |-- http_ip_man_rej_cnt: double (nullable = true)\n",
      " |-- http_ip_is_valid: double (nullable = true)\n",
      " |-- http_ip_is_proxy: double (nullable = true)\n",
      " |-- http_ip_dist_address: double (nullable = true)\n",
      " |-- http_ip_dist_phone: double (nullable = true)\n",
      " |-- em_num_b4_alpha: double (nullable = true)\n",
      " |-- em_num_aft_alpha: double (nullable = true)\n",
      " |-- ct_num_in_em: double (nullable = true)\n",
      " |-- em_user_fullname_sim: double (nullable = true)\n",
      " |-- em_user_fname_sim: double (nullable = true)\n",
      " |-- em_user_lname_sim: double (nullable = true)\n",
      " |-- ct_cus_by_fsa: double (nullable = true)\n",
      " |-- ct_cus_by_ip: double (nullable = true)\n",
      " |-- ct_cus_by_sa: double (nullable = true)\n",
      " |-- ct_cus_by_ba: double (nullable = true)\n",
      " |-- ct_cus_by_bp: double (nullable = true)\n",
      " |-- ct_cus_by_tdr: double (nullable = true)\n",
      " |-- time_on_site: double (nullable = true)\n",
      "\n"
     ]
    }
   ],
   "source": [
    "df_new.printSchema()"
   ]
  }
 ],
 "metadata": {
  "kernelspec": {
   "display_name": "Python 3",
   "language": "python",
   "name": "python3"
  },
  "language_info": {
   "codemirror_mode": {
    "name": "ipython",
    "version": 3
   },
   "file_extension": ".py",
   "mimetype": "text/x-python",
   "name": "python",
   "nbconvert_exporter": "python",
   "pygments_lexer": "ipython3",
   "version": "3.6.3"
  }
 },
 "nbformat": 4,
 "nbformat_minor": 2
}

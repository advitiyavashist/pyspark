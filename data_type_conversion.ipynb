{
 "cells": [
  {
   "cell_type": "markdown",
   "metadata": {},
   "source": [
    "# Changing Data Types of Columns "
   ]
  },
  {
   "cell_type": "code",
   "execution_count": 1,
   "metadata": {
    "collapsed": true
   },
   "outputs": [],
   "source": [
    "#importing libraries\n",
    "import pandas as pd\n",
    "from pyspark.sql import SparkSession\n",
    "from pyspark.sql import SQLContext\n",
    "from pyspark.sql.types import DoubleType, DateType, StringType, BooleanType, IntegerType\n",
    "from pyspark.sql.functions import when, to_date"
   ]
  },
  {
   "cell_type": "code",
   "execution_count": 2,
   "metadata": {
    "collapsed": true
   },
   "outputs": [],
   "source": [
    "#loading data\n",
    "spark = SparkSession.builder.appName('abc').getOrCreate()\n",
    "df = spark.read ..#path here"
   ]
  },
  {
   "cell_type": "code",
   "execution_count": 3,
   "metadata": {
    "collapsed": true
   },
   "outputs": [],
   "source": [
    "#creating a dictionary that contains the desired data type\n",
    "dtype_dict = {'a': 'double',\n",
    " 'b': 'double',\n",
    " 'c': 'string',\n",
    " 'd': 'string',\n",
    " 'e': 'boolean',\n",
    " 'order_ts': 'timestamp',\n",
    " 'g': 'date'}"
   ]
  },
  {
   "cell_type": "code",
   "execution_count": 4,
   "metadata": {
    "collapsed": true
   },
   "outputs": [],
   "source": [
    "#This function would convert the specified column in the specified pyspark dataframe to the the specified dtype.\n",
    "#A datframe is returned with the dtype of the specified column cast to the specified dtype \n",
    "def change_dtype(df, col, dtype):\n",
    "    try:\n",
    "    \n",
    "        def conv_to_timestamp(df,col,*args):\n",
    "            df = df.withColumn(col, (df[col].cast('double')/1000).cast('timestamp'))\n",
    "            return df\n",
    "\n",
    "        def conv_to_date(df, col, *args):\n",
    "            df = df.withColumn(col, to_date(df[col], 'mm/dd/yyyy'))\n",
    "            return df\n",
    "\n",
    "        def cast_dtype(df, col, dtype):\n",
    "            df = df.withColumn(col, df[col].cast(dtype))\n",
    "            return df\n",
    "\n",
    "        fn_dtype_dict = {'string':cast_dtype, 'integer':cast_dtype, \n",
    "                         'timestamp':conv_to_timestamp, 'boolean': cast_dtype, 'date': conv_to_date, 'double':cast_dtype}\n",
    "\n",
    "        df = fn_dtype_dict[dtype](df, col, dtype)\n",
    "\n",
    "        return df\n",
    "    except: \n",
    "        print(f'There is an error converting {col} to {dtype}')"
   ]
  },
  {
   "cell_type": "code",
   "execution_count": 5,
   "metadata": {},
   "outputs": [
    {
     "name": "stdout",
     "output_type": "stream",
     "text": [
      "+--------------------+\n",
      "|            order_ts|\n",
      "+--------------------+\n",
      "| 2018-05-09 01:29:53|\n",
      "|2018-05-09 06:29:...|\n",
      "|2018-05-09 06:29:...|\n",
      "| 2018-05-09 05:26:32|\n",
      "| 2018-05-09 05:26:29|\n",
      "| 2018-05-09 05:26:53|\n",
      "| 2018-05-09 01:30:03|\n",
      "| 2018-05-09 05:26:39|\n",
      "|2018-05-09 05:29:...|\n",
      "|2018-05-09 06:30:...|\n",
      "|2018-05-09 06:30:...|\n",
      "| 2018-05-09 05:29:46|\n",
      "|2018-05-09 06:30:...|\n",
      "|2018-05-09 05:30:...|\n",
      "|2018-05-09 06:30:...|\n",
      "| 2018-05-09 05:27:24|\n",
      "|2018-05-09 05:30:...|\n",
      "|2018-05-09 06:31:...|\n",
      "|2018-05-09 06:31:...|\n",
      "|2018-05-09 06:31:...|\n",
      "+--------------------+\n",
      "only showing top 20 rows\n",
      "\n"
     ]
    }
   ],
   "source": [
    "#testing it for 'order_ts' \n",
    "change_dtype(df, 'order_ts', 'timestamp').select('order_ts').show()"
   ]
  },
  {
   "cell_type": "code",
   "execution_count": 6,
   "metadata": {
    "collapsed": true
   },
   "outputs": [],
   "source": [
    "#running it for all columns\n",
    "for i in dtype_dict:\n",
    "    if dtype_dict[i] == df.select(i).dtypes[0][1]:\n",
    "        continue \n",
    "    else:\n",
    "        df = change_dtype(df, i , dtype_dict[i])\n",
    "        "
   ]
  },
  {
   "cell_type": "code",
   "execution_count": null,
   "metadata": {
    "collapsed": true
   },
   "outputs": [],
   "source": [
    "#checking if the columns have been cast to the right dtypes\n",
    "df.printSchema()"
   ]
  }
 ],
 "metadata": {
  "kernelspec": {
   "display_name": "Python 3",
   "language": "python",
   "name": "python3"
  },
  "language_info": {
   "codemirror_mode": {
    "name": "ipython",
    "version": 3
   },
   "file_extension": ".py",
   "mimetype": "text/x-python",
   "name": "python",
   "nbconvert_exporter": "python",
   "pygments_lexer": "ipython3",
   "version": "3.6.3"
  }
 },
 "nbformat": 4,
 "nbformat_minor": 2
}
